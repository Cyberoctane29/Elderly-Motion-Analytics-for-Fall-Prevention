{
 "cells": [
  {
   "cell_type": "markdown",
   "id": "bd960943",
   "metadata": {},
   "source": [
    "# Elderly Motion Analytics for Fall Prevention"
   ]
  },
  {
   "cell_type": "markdown",
   "id": "5d27dd4c",
   "metadata": {},
   "source": [
    "## **Introduction**  \n",
    "\n",
    "In this project, I will perform **Simple Binomial Logistic Regression** to analyze the relationship between vertical acceleration and the likelihood of a person lying down. Logistic regression is a powerful statistical method for modeling binary outcomes, making it ideal for this classification task. I will explore the dataset through **Exploratory Data Analysis (EDA)**, assess key **logistic regression assumptions**, and build a predictive model to determine how changes in vertical acceleration influence lying-down behavior.  \n",
    "\n",
    "The analysis will include **coefficient interpretation**, **odds ratio calculation**, and **model evaluation** using metrics such as accuracy, precision, recall, and AUC-ROC curves. Additionally, I will implement **cross-validation** and **error analysis** to ensure robustness and interpretability. Finally, I will discuss practical implications, limitations, and potential improvements to enhance predictive performance. This project aims to demonstrate how logistic regression can be applied to real-world classification problems while following best practices in model development and evaluation."
   ]
  },
  {
   "cell_type": "markdown",
   "id": "4015f395",
   "metadata": {},
   "source": [
    "## **Overview**\n",
    "\n",
    "This project investigates the relationship between vertical acceleration and lying down behavior in older adults using binomial logistic regression in Python. The goal is to determine how changes in vertical acceleration predict the likelihood of a person lying down, with potential applications in fall detection and health monitoring systems.\n",
    "\n",
    "To guide this process, I follow the standard **Regression Modeling Workflow**—a four-stage cycle of planning, analyzing, constructing, and executing, as illustrated below:\n",
    "\n",
    "<div align=\"center\">\n",
    "  <img src=\"Images\\Regression_Analysis.png\" alt=\"Regression Modeling Cycle\" width=\"750\"/>\n",
    "</div>\n",
    "\n",
    "To achieve this, I will:\n",
    "\n",
    "- **Perform Exploratory Data Analysis (EDA):** Examine the distribution of vertical acceleration and its relationship with lying down status using descriptive statistics and visualizations like boxplots and logistic regression plots, while also assessing class balance (lying down vs. not lying down) to identify potential biases in the dataset.  \n",
    "- **Conduct Data Preprocessing:** Handle missing values (if present) to ensure data quality and split the dataset into training and holdout samples for model validation.  \n",
    "- **Check Logistic Regression Assumptions:** Verify the binary nature of the outcome variable, ensure independence of observations and absence of multicollinearity, assess linearity between the independent variable (vertical acceleration) and log odds of lying down, and detect and address outliers that may skew model performance.  \n",
    "- **Build and Interpret the Logistic Regression Model:** Train the model using the training dataset and extract coefficients (log odds), exponentiate coefficients to derive odds ratios for intuitive interpretation, and calculate confidence intervals for coefficients to quantify uncertainty.  \n",
    "- **Visualize the Model:** Plot the logistic curve with a 95% confidence band to illustrate the relationship between vertical acceleration and lying down probability.  \n",
    "- **Evaluate Model Performance:** Construct a confusion matrix to quantify true/false positives/negatives, compute metrics like accuracy, precision, recall, F1 score, and log loss, generate ROC curves and calculate AUC to assess discriminative power, and perform cross-validation to check model generalizability.  \n",
    "- **Prepare for Deployment:** Serialize the trained model using `pickle` for future use and create a prediction function to classify new acceleration data.  \n",
    "- **Summarize Findings and Recommendations:** Highlight key insights, discuss limitations, and suggest improvements.  \n",
    "\n",
    "By executing this workflow, I aim to demonstrate how logistic regression can translate motion sensor data into actionable insights for elderly care, such as detecting inactivity or potential falls. The results could inform the development of wearable health monitors or assistive technologies."
   ]
  },
  {
   "cell_type": "markdown",
   "id": "8b11e009",
   "metadata": {},
   "source": [
    "## **Dataset Structure**\n",
    "\n",
    "### **Body Position Recognition Dataset**  \n",
    "This dataset contains accelerometer readings used to detect whether an individual is lying down or not. It supports the development of models that classify body posture based on motion data.\n",
    "\n",
    "#### **Dataset: Acceleration and Lying Down Status**  \n",
    "This dataset includes the following features:\n",
    "\n",
    "- **Acc (vertical)**: The vertical acceleration measured by an accelerometer, typically in meters per second squared (m/s²).  \n",
    "- **LyingDown**: A binary indicator where `1` represents that the person is lying down and `0` indicates otherwise.\n",
    "\n",
    "This dataset will be used to **analyze the relationship between vertical acceleration and body position, and to build classification models for posture detection.**"
   ]
  },
  {
   "cell_type": "markdown",
   "id": "52ed1e3c",
   "metadata": {},
   "source": [
    "### **Importing Required Libraries**\n",
    "\n",
    "Before beginning the analysis, I import the essential Python libraries that support data manipulation, visualization, and machine learning model development. These libraries provide the core functionality for handling structured data, building classification models, and evaluating performance.\n",
    "\n",
    "### **Library & Package Versions**  \n",
    "Maintaining consistent library versions ensures **reproducibility, stability, and compatibility** throughout the workflow. The following versions were used in this project:\n",
    "\n",
    "- **Pandas:** 2.2.3  \n",
    "- **NumPy:** 2.2.4  \n",
    "- **Seaborn:** 0.13.2  \n",
    "- **Matplotlib:** 3.10.1  \n",
    "- **Scikit-learn:** 1.6.1  \n",
    "\n",
    "### **Imports and Setup**\n",
    "\n",
    "**Core Data Handling**\n",
    "- `pandas` for manipulating tabular data using DataFrames.  \n",
    "- `numpy` for numerical computations and array operations.\n",
    "\n",
    "**Data Visualization**\n",
    "- `seaborn` for statistical data visualization with built-in themes and tools.  \n",
    "- `matplotlib.pyplot` for general-purpose plotting.\n",
    "\n",
    "**Machine Learning and Evaluation**\n",
    "- `train_test_split` from `sklearn.model_selection` for splitting the dataset into training and testing sets.  \n",
    "- `LogisticRegression` from `sklearn.linear_model` for training a binary classifier.  \n",
    "- `sklearn.metrics` tools including:\n",
    "  - `confusion_matrix`, `ConfusionMatrixDisplay` for classification result evaluation.\n",
    "  - `precision_score`, `recall_score`, `accuracy_score`, `roc_auc_score` for performance metrics.  \n",
    "  - `RocCurveDisplay` for plotting ROC curves.  \n",
    "  - `classification_report` for a summary of key classification metrics."
   ]
  },
  {
   "cell_type": "code",
   "execution_count": null,
   "id": "600979b9",
   "metadata": {},
   "outputs": [],
   "source": [
    "import pandas as pd\n",
    "import numpy as np \n",
    "\n",
    "# Visualization\n",
    "import seaborn as sns\n",
    "import matplotlib.pyplot as plt\n",
    "\n",
    "# Machine Learning and Model Evaluation\n",
    "from sklearn.model_selection import train_test_split\n",
    "from sklearn.linear_model import LogisticRegression\n",
    "import sklearn.metrics as metrics\n",
    "from sklearn.metrics import (confusion_matrix, \n",
    "                            ConfusionMatrixDisplay,\n",
    "                            precision_score,\n",
    "                            recall_score,\n",
    "                            accuracy_score,\n",
    "                            roc_auc_score,\n",
    "                            RocCurveDisplay,\n",
    "                            classification_report)\n"
   ]
  },
  {
   "cell_type": "markdown",
   "id": "c13ddf92",
   "metadata": {},
   "source": []
  },
  {
   "cell_type": "code",
   "execution_count": 2,
   "id": "bc4a7b59",
   "metadata": {},
   "outputs": [],
   "source": [
    "Data=pd.read_csv(r\"C:\\Users\\saswa\\Documents\\GitHub\\Elderly-Motion-Analytics-for-Fall-Prevention\\Data\\activity.csv\")"
   ]
  },
  {
   "cell_type": "code",
   "execution_count": 3,
   "id": "8389d60e",
   "metadata": {},
   "outputs": [
    {
     "data": {
      "text/html": [
       "<div>\n",
       "<style scoped>\n",
       "    .dataframe tbody tr th:only-of-type {\n",
       "        vertical-align: middle;\n",
       "    }\n",
       "\n",
       "    .dataframe tbody tr th {\n",
       "        vertical-align: top;\n",
       "    }\n",
       "\n",
       "    .dataframe thead th {\n",
       "        text-align: right;\n",
       "    }\n",
       "</style>\n",
       "<table border=\"1\" class=\"dataframe\">\n",
       "  <thead>\n",
       "    <tr style=\"text-align: right;\">\n",
       "      <th></th>\n",
       "      <th>Acc (vertical)</th>\n",
       "      <th>LyingDown</th>\n",
       "    </tr>\n",
       "  </thead>\n",
       "  <tbody>\n",
       "    <tr>\n",
       "      <th>0</th>\n",
       "      <td>96.229</td>\n",
       "      <td>0</td>\n",
       "    </tr>\n",
       "    <tr>\n",
       "      <th>1</th>\n",
       "      <td>84.746</td>\n",
       "      <td>0</td>\n",
       "    </tr>\n",
       "    <tr>\n",
       "      <th>2</th>\n",
       "      <td>82.449</td>\n",
       "      <td>0</td>\n",
       "    </tr>\n",
       "    <tr>\n",
       "      <th>3</th>\n",
       "      <td>106.560</td>\n",
       "      <td>0</td>\n",
       "    </tr>\n",
       "    <tr>\n",
       "      <th>4</th>\n",
       "      <td>80.152</td>\n",
       "      <td>0</td>\n",
       "    </tr>\n",
       "  </tbody>\n",
       "</table>\n",
       "</div>"
      ],
      "text/plain": [
       "   Acc (vertical)  LyingDown\n",
       "0          96.229          0\n",
       "1          84.746          0\n",
       "2          82.449          0\n",
       "3         106.560          0\n",
       "4          80.152          0"
      ]
     },
     "execution_count": 3,
     "metadata": {},
     "output_type": "execute_result"
    }
   ],
   "source": [
    "Data.head()"
   ]
  },
  {
   "cell_type": "code",
   "execution_count": 4,
   "id": "e5da8579",
   "metadata": {},
   "outputs": [
    {
     "data": {
      "text/plain": [
       "<Axes: xlabel='Acc (vertical)', ylabel='Count'>"
      ]
     },
     "execution_count": 4,
     "metadata": {},
     "output_type": "execute_result"
    },
    {
     "data": {
      "image/png": "[encoded data removed]",
      "text/plain": [
       "<Figure size 640x480 with 1 Axes>"
      ]
     },
     "metadata": {},
     "output_type": "display_data"
    }
   ],
   "source": [
    "sns.histplot(x=Data['Acc (vertical)'])"
   ]
  },
  {
   "cell_type": "code",
   "execution_count": 5,
   "id": "dd33e58e",
   "metadata": {},
   "outputs": [
    {
     "name": "stdout",
     "output_type": "stream",
     "text": [
      "Shapiro-Wilk test statistic = 0.8847422677730177, p-value = 9.624080081102076e-19\n",
      "Probably not normal\n"
     ]
    }
   ],
   "source": [
    "from scipy.stats import shapiro\n",
    "\n",
    "\n",
    "stat, p = shapiro(Data['Acc (vertical)'])\n",
    "print(f\"Shapiro-Wilk test statistic = {stat}, p-value = {p}\")\n",
    "\n",
    "if p > 0.05:\n",
    "    print(\"Probably normal\")\n",
    "else:\n",
    "    print(\"Probably not normal\")"
   ]
  }
 ],
 "metadata": {
  "kernelspec": {
   "display_name": "venv",
   "language": "python",
   "name": "python3"
  },
  "language_info": {
   "codemirror_mode": {
    "name": "ipython",
    "version": 3
   },
   "file_extension": ".py",
   "mimetype": "text/x-python",
   "name": "python",
   "nbconvert_exporter": "python",
   "pygments_lexer": "ipython3",
   "version": "3.13.0"
  }
 },
 "nbformat": 4,
 "nbformat_minor": 5
}
