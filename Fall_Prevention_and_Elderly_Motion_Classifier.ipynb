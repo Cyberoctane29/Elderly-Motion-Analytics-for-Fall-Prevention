{
 "cells": [
  {
   "cell_type": "markdown",
   "id": "bd960943",
   "metadata": {},
   "source": [
    "# Fall Prevention and Elderly Motion Classifier"
   ]
  },
  {
   "cell_type": "markdown",
   "id": "72eec363",
   "metadata": {},
   "source": []
  }
 ],
 "metadata": {
  "language_info": {
   "name": "python"
  }
 },
 "nbformat": 4,
 "nbformat_minor": 5
}
